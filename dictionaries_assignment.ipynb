{
 "cells": [
  {
   "cell_type": "markdown",
   "id": "95e5e934",
   "metadata": {
    "panel-layout": {
     "height": 1028.7874755859375,
     "visible": true,
     "width": 100
    }
   },
   "source": [
    "# Module 3: Data Structures Assignments\n",
    "## Lesson 3.4: Dictionaries\n",
    "### Assignment 1: Creating and Accessing Dictionaries\n",
    "\n",
    "Create a dictionary with the first 10 positive integers as keys and their squares as values. Print the dictionary.\n",
    "\n",
    "### Assignment 2: Accessing Dictionary Elements\n",
    "\n",
    "Print the value of the key 5 and the keys of the dictionary created in Assignment 1.\n",
    "\n",
    "### Assignment 3: Dictionary Methods\n",
    "\n",
    "Add a new key-value pair (11, 121) to the dictionary created in Assignment 1 and then remove the key-value pair with key 1. Print the modified dictionary.\n",
    "\n",
    "### Assignment 4: Iterating Over Dictionaries\n",
    "\n",
    "Iterate over the dictionary created in Assignment 1 and print each key-value pair.\n",
    "\n",
    "### Assignment 5: Dictionary Comprehensions\n",
    "\n",
    "Create a new dictionary containing the cubes of the first 10 positive integers using a dictionary comprehension. Print the new dictionary.\n",
    "\n",
    "### Assignment 6: Merging Dictionaries\n",
    "\n",
    "Create two dictionaries: one with keys as the first 5 positive integers and values as their squares, and another with keys as the next 5 positive integers and values as their squares. Merge these dictionaries into a single dictionary and print it.\n",
    "\n",
    "### Assignment 7: Nested Dictionaries\n",
    "\n",
    "Create a nested dictionary representing a student with keys 'name', 'age', 'grades', where 'grades' is another dictionary with keys 'math', 'science', and 'english'. Print the nested dictionary.\n",
    "\n",
    "### Assignment 8: Dictionary of Lists\n",
    "\n",
    "Create a dictionary where the keys are the first 5 positive integers and the values are lists containing the first 5 multiples of the key. Print the dictionary.\n",
    "\n",
    "### Assignment 9: Dictionary of Tuples\n",
    "\n",
    "Create a dictionary where the keys are the first 5 positive integers and the values are tuples containing the key and its square. Print the dictionary.\n",
    "\n",
    "### Assignment 10: Dictionary and List Conversion\n",
    "\n",
    "Create a dictionary with the first 5 positive integers as keys and their squares as values. Convert the dictionary to a list of tuples and print it.\n",
    "\n",
    "### Assignment 11: Dictionary Filtering\n",
    "\n",
    "Create a dictionary with the first 10 positive integers as keys and their squares as values. Create a new dictionary containing only the key-value pairs where the key is even. Print the new dictionary.\n",
    "\n",
    "### Assignment 12: Dictionary Key and Value Transformation\n",
    "\n",
    "Create a dictionary with the first 5 positive integers as keys and their squares as values. Create a new dictionary with keys and values swapped. Print the new dictionary.\n",
    "\n",
    "### Assignment 13: Default Dictionary\n",
    "\n",
    "Create a default dictionary where each key has a default value of an empty list. Add some elements to the lists and print the dictionary.\n",
    "\n",
    "### Assignment 14: Counting with Dictionaries\n",
    "\n",
    "Write a function that takes a string and returns a dictionary with the count of each character in the string. Print the dictionary.\n",
    "\n",
    "### Assignment 15: Dictionary and JSON\n",
    "\n",
    "Create a dictionary representing a book with keys 'title', 'author', 'year', and 'genre'. Convert the dictionary to a JSON string and print it."
   ]
  },
  {
   "cell_type": "code",
   "execution_count": 1,
   "id": "d9f7ea29",
   "metadata": {
    "panel-layout": {
     "height": 220.5749969482422,
     "visible": true,
     "width": 100
    }
   },
   "outputs": [
    {
     "data": {
      "text/plain": [
       "{1: 1, 2: 4, 3: 9, 4: 16, 5: 25, 6: 36, 7: 49, 8: 64, 9: 81, 10: 100}"
      ]
     },
     "execution_count": 1,
     "metadata": {},
     "output_type": "execute_result"
    }
   ],
   "source": [
    "# Assignment 1: Creating and Accessing Dictionaries\n",
    "# Create a dictionary with the first 10 positive integers as keys and their squares as values. Print the dictionary.\n",
    "\n",
    "dct={x:x**2 for x in range(1,11)}\n",
    "dct"
   ]
  },
  {
   "cell_type": "code",
   "execution_count": 3,
   "id": "98e8f6e0-3973-4047-a555-b066961cfa1a",
   "metadata": {
    "panel-layout": {
     "height": 0,
     "visible": true,
     "width": 100
    }
   },
   "outputs": [
    {
     "name": "stdout",
     "output_type": "stream",
     "text": [
      "Value of key 5 : 25\n",
      "keys : [1, 2, 3, 4, 5, 6, 7, 8, 9, 10]\n"
     ]
    }
   ],
   "source": [
    "# Assignment 2: Accessing Dictionary Elements\n",
    "# Print the value of the key 5 and the keys of the dictionary created in Assignment 1.\n",
    "print(\"Value of key 5 :\",dct[5])\n",
    "print(\"keys :\",list(dct.keys()))\n"
   ]
  },
  {
   "cell_type": "code",
   "execution_count": 4,
   "id": "740892c1-244a-4d05-a63a-90a1e7851105",
   "metadata": {
    "panel-layout": {
     "height": 220.5749969482422,
     "visible": true,
     "width": 100
    }
   },
   "outputs": [
    {
     "data": {
      "text/plain": [
       "{2: 4, 3: 9, 4: 16, 5: 25, 6: 36, 7: 49, 8: 64, 9: 81, 10: 100, 11: 121}"
      ]
     },
     "execution_count": 4,
     "metadata": {},
     "output_type": "execute_result"
    }
   ],
   "source": [
    "# Assignment 3: Dictionary Methods\n",
    "# Add a new key-value pair (11, 121) to the dictionary created \n",
    "# in Assignment 1 and then remove the key-value pair with key 1. Print the modified dictionary.\n",
    "dct[11]=121\n",
    "del dct[1]\n",
    "dct"
   ]
  },
  {
   "cell_type": "code",
   "execution_count": 6,
   "id": "59739d7d-8009-41f7-baf2-2ee45178d3f7",
   "metadata": {},
   "outputs": [
    {
     "name": "stdout",
     "output_type": "stream",
     "text": [
      "key:value : 2 4\n",
      "key:value : 3 9\n",
      "key:value : 4 16\n",
      "key:value : 5 25\n",
      "key:value : 6 36\n",
      "key:value : 7 49\n",
      "key:value : 8 64\n",
      "key:value : 9 81\n",
      "key:value : 10 100\n",
      "key:value : 11 121\n"
     ]
    }
   ],
   "source": [
    "# Assignment 4: Iterating Over Dictionaries\n",
    "# Iterate over the dictionary created in Assignment 1 and print each key-value pair.\n",
    "\n",
    "for key,value in dct.items():\n",
    "    print(\"key:value :\",key,value)"
   ]
  },
  {
   "cell_type": "code",
   "execution_count": 7,
   "id": "ad400c15-e6a5-404d-abe7-c9ba111ae3ab",
   "metadata": {
    "panel-layout": {
     "height": 220.5749969482422,
     "visible": true,
     "width": 100
    }
   },
   "outputs": [
    {
     "data": {
      "text/plain": [
       "{1: 1, 2: 8, 3: 27, 4: 64, 5: 125, 6: 216, 7: 343, 8: 512, 9: 729, 10: 1000}"
      ]
     },
     "execution_count": 7,
     "metadata": {},
     "output_type": "execute_result"
    }
   ],
   "source": [
    "# Assignment 5: Dictionary Comprehensions\n",
    "# Create a new dictionary containing the cubes of the\n",
    "# first 10 positive integers using a dictionary comprehension. Print the new dictionary.\n",
    "\n",
    "dct={x:x**3 for x in range(1,11)}\n",
    "dct"
   ]
  },
  {
   "cell_type": "code",
   "execution_count": 8,
   "id": "7727e540-3c20-4324-af04-a39d2b1740f4",
   "metadata": {
    "panel-layout": {
     "height": 220.57510375976562,
     "visible": true,
     "width": 100
    }
   },
   "outputs": [
    {
     "data": {
      "text/plain": [
       "{1: 1, 2: 4, 3: 9, 4: 16, 5: 25, 6: 36, 7: 49, 8: 64, 9: 81, 10: 100}"
      ]
     },
     "execution_count": 8,
     "metadata": {},
     "output_type": "execute_result"
    }
   ],
   "source": [
    "# Assignment 6: Merging Dictionaries\n",
    "# Create two dictionaries: one with keys as the first 5 positive integers and values as their squares,\n",
    "# and another with keys as the next 5 positive integers and \n",
    "# values as their squares. Merge these dictionaries into a single dictionary and print it.\n",
    "\n",
    "dct1={x:x**2 for x in range(1,6)}\n",
    "dct2={x:x**2 for x in range(6,11)}\n",
    "dct={**dct1,**dct2}\n",
    "dct\n"
   ]
  },
  {
   "cell_type": "code",
   "execution_count": 9,
   "id": "210c3ea7-88bf-4437-92b8-8663bd109fb7",
   "metadata": {
    "panel-layout": {
     "height": 0,
     "visible": true,
     "width": 100
    }
   },
   "outputs": [
    {
     "name": "stdout",
     "output_type": "stream",
     "text": [
      "{'name': 'John Doe', 'age': 16, 'grades': {'math': 90, 'science': 85, 'english': 88}}\n"
     ]
    }
   ],
   "source": [
    "# Assignment 7: Nested Dictionaries\n",
    "# Create a nested dictionary representing a student\n",
    "# with keys 'name', 'age', 'grades', where 'grades' \n",
    "# is another dictionary with keys 'math', 'science', and 'english'. Print the nested dictionary.\n",
    "\n",
    "student = {\n",
    "    'name': 'John Doe',\n",
    "    'age': 16,\n",
    "    'grades': {\n",
    "        'math': 90,\n",
    "        'science': 85,\n",
    "        'english': 88\n",
    "    }\n",
    "}\n",
    "print(student)"
   ]
  },
  {
   "cell_type": "code",
   "execution_count": 18,
   "id": "66c3b5a7-779e-4546-8e9e-54a2015b1ecd",
   "metadata": {
    "panel-layout": {
     "height": 145.1999969482422,
     "visible": true,
     "width": 100
    }
   },
   "outputs": [
    {
     "data": {
      "text/plain": [
       "{1: [1, 2, 3, 4, 5],\n",
       " 2: [2, 4, 6, 8, 10],\n",
       " 3: [3, 6, 9, 12, 15],\n",
       " 4: [4, 8, 12, 16, 20],\n",
       " 5: [5, 10, 15, 20, 25]}"
      ]
     },
     "execution_count": 18,
     "metadata": {},
     "output_type": "execute_result"
    }
   ],
   "source": [
    "# Assignment 8: Dictionary of Lists\n",
    "# Create a dictionary where the keys are the first 5 positive integers \n",
    "# and the values are lists containing the first 5 multiples of the key. Print the dictionary.\n",
    "\n",
    "dct={x:[x*i for i in range(1,6)] for x in range(1,6)}\n",
    "dct"
   ]
  },
  {
   "cell_type": "code",
   "execution_count": 24,
   "id": "dae6e55a-a771-4b97-b98f-42b62644ac5e",
   "metadata": {
    "panel-layout": {
     "height": 145.1999969482422,
     "visible": true,
     "width": 100
    }
   },
   "outputs": [
    {
     "data": {
      "text/plain": [
       "{1: (1, 1), 2: (2, 4), 3: (3, 9), 4: (4, 16), 5: (5, 25)}"
      ]
     },
     "execution_count": 24,
     "metadata": {},
     "output_type": "execute_result"
    }
   ],
   "source": [
    "# Assignment 9: Dictionary of Tuples\n",
    "# Create a dictionary where the keys are the first 5 positive integers and the values \n",
    "# are tuples containing the key and its square. Print the dictionary.\n",
    "\n",
    "dct={x:(x,x**2) for x in range(1,6)}\n",
    "dct"
   ]
  },
  {
   "cell_type": "code",
   "execution_count": 26,
   "id": "57f9c3ac-1892-4778-81da-4ae4cfc012a0",
   "metadata": {
    "panel-layout": {
     "height": 0,
     "visible": true,
     "width": 100
    }
   },
   "outputs": [
    {
     "name": "stdout",
     "output_type": "stream",
     "text": [
      "[(1, 1), (2, 4), (3, 9), (4, 16), (5, 25)]\n"
     ]
    }
   ],
   "source": [
    "# Assignment 10: Dictionary and List Conversion\n",
    "# Create a dictionary with the first 5 positive integers as keys and\n",
    "# their squares as values. Convert the dictionary to a list of tuples and print it.\n",
    "\n",
    "dct={x:x**2 for x in range(1,6)}\n",
    "list_of_tuples = list(dct.items())\n",
    "print(list_of_tuples)\n"
   ]
  },
  {
   "cell_type": "code",
   "execution_count": 28,
   "id": "b69fa175-8a30-4dad-8e3e-994d8b483c0a",
   "metadata": {
    "panel-layout": {
     "height": 0,
     "visible": true,
     "width": 100
    }
   },
   "outputs": [
    {
     "name": "stdout",
     "output_type": "stream",
     "text": [
      "{2: 4, 4: 16, 6: 36, 8: 64, 10: 100}\n"
     ]
    }
   ],
   "source": [
    "# Assignment 11: Dictionary Filtering\n",
    "# Create a dictionary with the first 10 positive integers as keys\n",
    "# and their squares as values. Create a new dictionary containing only the key-value pairs\n",
    "# where the key is even. Print the new dictionary.\n",
    "\n",
    "d = {i: i**2 for i in range(1, 11)}\n",
    "even_dict = {key: value for key, value in d.items() if key % 2 == 0}\n",
    "print(even_dict)"
   ]
  },
  {
   "cell_type": "code",
   "execution_count": 30,
   "id": "38f51adb-9543-40c9-ab87-0abb67313482",
   "metadata": {
    "panel-layout": {
     "height": 0,
     "visible": true,
     "width": 100
    }
   },
   "outputs": [
    {
     "name": "stdout",
     "output_type": "stream",
     "text": [
      "Swapped: {1: 1, 4: 2, 9: 3, 16: 4, 25: 5}\n"
     ]
    }
   ],
   "source": [
    " # Assignment 12: Dictionary Key and Value Transformation\n",
    "# Create a dictionary with the first 5 positive integers as keys \n",
    "# and their squares as values. Create a new dictionary with keys and values swapped. Print the new dictionary.\n",
    "dct = {x: x**2 for x in range(1, 6)}\n",
    "new_dct = {value: key for key, value in dct.items()}\n",
    "\n",
    "print(\"Swapped:\", new_dct)\n"
   ]
  },
  {
   "cell_type": "code",
   "execution_count": 31,
   "id": "1b4a147b-e036-465d-b4f5-91ad0504e0e4",
   "metadata": {
    "panel-layout": {
     "height": 0,
     "visible": true,
     "width": 100
    }
   },
   "outputs": [
    {
     "name": "stdout",
     "output_type": "stream",
     "text": [
      "defaultdict(<class 'list'>, {'a': [1, 2], 'b': [3]})\n"
     ]
    }
   ],
   "source": [
    "# Assignment 13: Default Dictionary\n",
    "# Create a default dictionary where each key has a default value of an empty list.\n",
    "# Add some elements to the lists and print the dictionary.\n",
    "\n",
    "from collections import defaultdict\n",
    "\n",
    "default_dict = defaultdict(list)\n",
    "default_dict['a'].append(1)\n",
    "default_dict['a'].append(2)\n",
    "default_dict['b'].append(3)\n",
    "print(default_dict)"
   ]
  },
  {
   "cell_type": "code",
   "execution_count": 32,
   "id": "32a6464d-529d-4ca0-9243-d3fba8be3843",
   "metadata": {},
   "outputs": [
    {
     "name": "stdout",
     "output_type": "stream",
     "text": [
      "{'A': 1, 'b': 1, 'd': 2, 'u': 1, 'l': 1, ' ': 1, 'm': 1, 'o': 1, 'e': 2}\n"
     ]
    }
   ],
   "source": [
    "# Assignment 14: Counting with Dictionaries\n",
    "# Write a function that takes a string and returns a dictionary \n",
    "# with the count of each character in the string. Print the dictionary.\n",
    "\n",
    "def count_chars(s):\n",
    "    count_dict={}\n",
    "    for char in s:\n",
    "        count_dict[char] = count_dict.get(char, 0) + 1\n",
    "\n",
    "    return count_dict\n",
    "\n",
    "print(count_chars(\"Abdul moeed\"))"
   ]
  },
  {
   "cell_type": "code",
   "execution_count": 33,
   "id": "c65611e1-3317-4b87-a5db-58be05be7218",
   "metadata": {},
   "outputs": [
    {
     "name": "stdout",
     "output_type": "stream",
     "text": [
      "{\"title\": \"To Kill a Mockingbird\", \"author\": \"Harper Lee\", \"year\": 1960, \"genre\": \"Fiction\"}\n"
     ]
    }
   ],
   "source": [
    "import json\n",
    "\n",
    "book = {\n",
    "    'title': 'To Kill a Mockingbird',\n",
    "    'author': 'Harper Lee',\n",
    "    'year': 1960,\n",
    "    'genre': 'Fiction'\n",
    "}\n",
    "book_json = json.dumps(book)\n",
    "print(book_json)\n"
   ]
  },
  {
   "cell_type": "code",
   "execution_count": null,
   "id": "57fd55c4-01a9-4ea9-8b2d-b00c737677d4",
   "metadata": {},
   "outputs": [],
   "source": []
  }
 ],
 "metadata": {
  "kernelspec": {
   "display_name": "Python [conda env:base] *",
   "language": "python",
   "name": "conda-base-py"
  },
  "language_info": {
   "codemirror_mode": {
    "name": "ipython",
    "version": 3
   },
   "file_extension": ".py",
   "mimetype": "text/x-python",
   "name": "python",
   "nbconvert_exporter": "python",
   "pygments_lexer": "ipython3",
   "version": "3.13.5"
  },
  "panel-cell-order": [
   "95e5e934",
   "d9f7ea29",
   "98e8f6e0-3973-4047-a555-b066961cfa1a",
   "740892c1-244a-4d05-a63a-90a1e7851105",
   "ad400c15-e6a5-404d-abe7-c9ba111ae3ab",
   "7727e540-3c20-4324-af04-a39d2b1740f4",
   "210c3ea7-88bf-4437-92b8-8663bd109fb7",
   "66c3b5a7-779e-4546-8e9e-54a2015b1ecd",
   "dae6e55a-a771-4b97-b98f-42b62644ac5e",
   "57f9c3ac-1892-4778-81da-4ae4cfc012a0",
   "b69fa175-8a30-4dad-8e3e-994d8b483c0a",
   "38f51adb-9543-40c9-ab87-0abb67313482",
   "1b4a147b-e036-465d-b4f5-91ad0504e0e4"
  ]
 },
 "nbformat": 4,
 "nbformat_minor": 5
}

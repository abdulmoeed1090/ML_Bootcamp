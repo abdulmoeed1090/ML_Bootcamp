{
 "cells": [
  {
   "cell_type": "markdown",
   "id": "c684fb98",
   "metadata": {},
   "source": [
    "# Module 3: Data Structures Assignments\n",
    "## Lesson 3.3: Sets\n",
    "### Assignment 1: Creating and Accessing Sets\n",
    "\n",
    "Create a set with the first 10 positive integers. Print the set.\n",
    "\n",
    "### Assignment 2: Adding and Removing Elements\n",
    "\n",
    "Add the number 11 to the set created in Assignment 1. Then remove the number 1 from the set. Print the modified set.\n",
    "\n",
    "### Assignment 3: Set Operations\n",
    "\n",
    "Create two sets: one with the first 5 positive integers and another with the first 5 even integers. Perform and print the results of union, intersection, difference, and symmetric difference operations on these sets.\n",
    "\n",
    "### Assignment 4: Set Comprehensions\n",
    "\n",
    "Create a new set containing the squares of the first 10 positive integers using a set comprehension. Print the new set.\n",
    "\n",
    "### Assignment 5: Filtering Sets\n",
    "\n",
    "Create a new set containing only the even numbers from the set created in Assignment 1 using a set comprehension. Print the new set.\n",
    "\n",
    "### Assignment 6: Set Methods\n",
    "\n",
    "Create a set with duplicate elements and remove the duplicates using set methods. Print the modified set.\n",
    "\n",
    "### Assignment 7: Subsets and Supersets\n",
    "\n",
    "Create two sets: one with the first 5 positive integers and another with the first 3 positive integers. Check if the second set is a subset of the first set and if the first set is a superset of the second set. Print the results.\n",
    "\n",
    "### Assignment 8: Frozenset\n",
    "\n",
    "Create a frozenset with the first 5 positive integers. Print the frozenset.\n",
    "\n",
    "### Assignment 9: Set and List Conversion\n",
    "\n",
    "Create a set with the first 5 positive integers. Convert it to a list, append the number 6, and convert it back to a set. Print the resulting set.\n",
    "\n",
    "### Assignment 10: Set and Dictionary\n",
    "\n",
    "Create a dictionary with set keys and integer values. Print the dictionary.\n",
    "\n",
    "### Assignment 11: Iterating Over Sets\n",
    "\n",
    "Create a set and iterate over the elements, printing each element.\n",
    "\n",
    "### Assignment 12: Removing Elements from Sets\n",
    "\n",
    "Create a set and remove elements from it until it is empty. Print the set after each removal.\n",
    "\n",
    "### Assignment 13: Set Symmetric Difference Update\n",
    "\n",
    "Create two sets and update the first set with the symmetric difference of the two sets. Print the modified first set.\n",
    "\n",
    "### Assignment 14: Set Membership Testing\n",
    "\n",
    "Create a set and test if certain elements are present in the set. Print the results.\n",
    "\n",
    "### Assignment 15: Set of Tuples\n",
    "\n",
    "Create a set containing tuples, where each tuple contains two elements. Print the set."
   ]
  },
  {
   "cell_type": "code",
   "execution_count": 1,
   "id": "75a62f82-1072-4aa4-b771-860200a02232",
   "metadata": {},
   "outputs": [
    {
     "data": {
      "text/plain": [
       "{1, 2, 3, 4, 5, 6, 7, 8, 9, 10}"
      ]
     },
     "execution_count": 1,
     "metadata": {},
     "output_type": "execute_result"
    }
   ],
   "source": [
    "# Assignment 1: Creating and Accessing Sets\n",
    "# Create a set with the first 10 positive integers. Print the set.\n",
    "s=set(range(1,11))\n",
    "s"
   ]
  },
  {
   "cell_type": "code",
   "execution_count": 3,
   "id": "7e30d068",
   "metadata": {},
   "outputs": [
    {
     "data": {
      "text/plain": [
       "{2, 3, 4, 5, 6, 7, 8, 9, 10, 11}"
      ]
     },
     "execution_count": 3,
     "metadata": {},
     "output_type": "execute_result"
    }
   ],
   "source": [
    "# Assignment 2: Adding and Removing Elements\n",
    "# Add the number 11 to the set created in Assignment 1.\n",
    "# Then remove the number 1 from the set. Print the modified set.\n",
    "s.add(11)\n",
    "s.discard(1)\n",
    "s"
   ]
  },
  {
   "cell_type": "code",
   "execution_count": 6,
   "id": "5a2892af-3a53-4e64-bc65-263b83729b6f",
   "metadata": {},
   "outputs": [
    {
     "name": "stdout",
     "output_type": "stream",
     "text": [
      "{1, 2, 3, 4, 5, 6, 8, 10} {2, 4} {1, 3, 5} {1, 3, 5, 6, 8, 10}\n"
     ]
    }
   ],
   "source": [
    "# Assignment 3: Set Operations\n",
    "# Create two sets: one with the first 5 positive integers and\n",
    "# another with the first 5 even integers. Perform and print the\n",
    "# results of union, intersection, difference, and symmetric \n",
    "# difference operations on these sets.\n",
    "s1=set(range(1,6))\n",
    "s2={2,4,6,8,10}\n",
    "un=s1.union(s2)\n",
    "ins=s1.intersection(s2)\n",
    "diff=s1.difference(s2)\n",
    "sym=s1.symmetric_difference(s2)\n",
    "print(un,ins,diff,sym)\n",
    "\n"
   ]
  },
  {
   "cell_type": "code",
   "execution_count": 8,
   "id": "667e899b-dc2c-4558-9247-26d24a0f7a36",
   "metadata": {},
   "outputs": [
    {
     "name": "stdout",
     "output_type": "stream",
     "text": [
      "{64, 1, 4, 36, 100, 9, 16, 49, 81, 25}\n"
     ]
    }
   ],
   "source": [
    "# Assignment 4: Set Comprehensions\n",
    "# Create a new set containing the squares of the first 10 positive integers \n",
    "# using a set comprehension. Print the new set.\n",
    "squares = {x**2 for x in range(1, 11)}\n",
    "print(squares)"
   ]
  },
  {
   "cell_type": "code",
   "execution_count": 9,
   "id": "d7cc57bf-3c4a-41c4-81d9-7a03912bc877",
   "metadata": {},
   "outputs": [
    {
     "name": "stdout",
     "output_type": "stream",
     "text": [
      "{2, 4, 6, 8, 10}\n"
     ]
    }
   ],
   "source": [
    "# Assignment 5: Filtering Sets\n",
    "# Create a new set containing only the even numbers from the set created in \n",
    "# Assignment 1 using a set comprehension. Print the new set.\n",
    "\n",
    "evens = {x for x in s if x % 2 == 0}\n",
    "print(evens)"
   ]
  },
  {
   "cell_type": "code",
   "execution_count": 11,
   "id": "82222094-c613-435a-910d-2ae8c13976fd",
   "metadata": {},
   "outputs": [
    {
     "name": "stdout",
     "output_type": "stream",
     "text": [
      "{3, 4, 5, 6, 22, 876}\n"
     ]
    }
   ],
   "source": [
    "# Assignment 6: Set Methods\n",
    "# Create a set with duplicate elements and remove \n",
    "# the duplicates using set methods. Print the modified set.\n",
    "s={3,4,5,5,4,3,22,6,876,4,5}\n",
    "unique_s = set(s)\n",
    "print(unique_s)\n"
   ]
  },
  {
   "cell_type": "code",
   "execution_count": 15,
   "id": "d44ba0b5-7adc-4336-b715-c60c06459771",
   "metadata": {},
   "outputs": [
    {
     "name": "stdout",
     "output_type": "stream",
     "text": [
      "second set is a subset of the first set : True\n",
      "first set is a superset of the second set: True\n"
     ]
    }
   ],
   "source": [
    "# Assignment 7: Subsets and Supersets\n",
    "# Create two sets: one with the first 5 positive integers and another \n",
    "# with the first 3 positive integers. Check if the second set \n",
    "# is a subset of the first set and\n",
    "# if the first set is a superset of the second set. Print the results.\n",
    "s1={1,2,3,4,5}\n",
    "s2={1,2,3}\n",
    "ss=s2.issubset(s1)\n",
    "print(\"second set is a subset of the first set :\",ss)\n",
    "Ss=s1.issuperset(s2)\n",
    "print(\"first set is a superset of the second set:\",Ss)\n",
    "\n"
   ]
  },
  {
   "cell_type": "code",
   "execution_count": 16,
   "id": "5649ac49-246c-46bd-84a8-6d76d61f709b",
   "metadata": {},
   "outputs": [
    {
     "name": "stdout",
     "output_type": "stream",
     "text": [
      "frozenset({1, 2, 3, 4, 5})\n"
     ]
    }
   ],
   "source": [
    "# Assignment 8: Frozenset\n",
    "# Create a frozenset with the first 5 positive integers.\n",
    "# Print the frozenset.\n",
    "fs = frozenset(range(1, 6))\n",
    "print(fs)"
   ]
  },
  {
   "cell_type": "code",
   "execution_count": 17,
   "id": "9fa55c28-012d-43f2-a6a3-4fddea176862",
   "metadata": {},
   "outputs": [
    {
     "name": "stdout",
     "output_type": "stream",
     "text": [
      "{1, 2, 3, 4, 5, 6}\n"
     ]
    }
   ],
   "source": [
    "# Assignment 9: Set and List Conversion\n",
    "# Create a set with the first 5 positive integers. Convert it to a list,\n",
    "# append the number 6, and convert it back to a set. Print the resulting set.\n",
    "s=set(range(1,6))\n",
    "ls=list(s)\n",
    "ls.append(6)\n",
    "s=set(ls)\n",
    "print(s)"
   ]
  },
  {
   "cell_type": "code",
   "execution_count": 19,
   "id": "cf0b10f4-3113-4cf4-a766-5cc4daba826f",
   "metadata": {},
   "outputs": [
    {
     "data": {
      "text/plain": [
       "{frozenset({3, 4}): [4], frozenset({5, 6}): [5]}"
      ]
     },
     "execution_count": 19,
     "metadata": {},
     "output_type": "execute_result"
    }
   ],
   "source": [
    "# Assignment 10: Set and Dictionary\n",
    "# Create a dictionary with set keys and integer values. Print the dictionary.\n",
    "dct = {frozenset({3, 4}): [4], frozenset({5, 6}): [5]}\n",
    "dct"
   ]
  },
  {
   "cell_type": "code",
   "execution_count": 23,
   "id": "9bb61779-3b9e-44c7-aaec-03ee52d72620",
   "metadata": {},
   "outputs": [
    {
     "name": "stdout",
     "output_type": "stream",
     "text": [
      "1\n",
      "2\n",
      "3\n",
      "4\n",
      "5\n",
      "6\n",
      "7\n"
     ]
    }
   ],
   "source": [
    "# Assignment 11: Iterating Over Sets\n",
    "# Create a set and iterate over the elements, printing each element.\n",
    "s=set(range(1,8))\n",
    "for item in s:\n",
    "    print(item,end=\"\\n\")"
   ]
  },
  {
   "cell_type": "code",
   "execution_count": 27,
   "id": "2627e468-e12a-4082-91e6-200786d0ab68",
   "metadata": {},
   "outputs": [
    {
     "name": "stdout",
     "output_type": "stream",
     "text": [
      "1\n",
      "2\n",
      "3\n",
      "4\n",
      "5\n",
      "6\n",
      "7\n",
      "set()\n"
     ]
    }
   ],
   "source": [
    "# Assignment 12: Removing Elements from Sets\n",
    "# Create a set and remove elements from it until it is empty. Print the set after each removal.\n",
    "s=set(range(1,8))\n",
    "while s:\n",
    "    item=s.pop()\n",
    "    print(item)\n",
    "print(s)"
   ]
  },
  {
   "cell_type": "code",
   "execution_count": 28,
   "id": "efb161e6-584c-4d0e-a9db-abdf386ff01e",
   "metadata": {},
   "outputs": [
    {
     "name": "stdout",
     "output_type": "stream",
     "text": [
      "{1, 2, 4, 5}\n"
     ]
    }
   ],
   "source": [
    "set1 = {1, 2, 3}\n",
    "set2 = {3, 4, 5}\n",
    "set1.symmetric_difference_update(set2)\n",
    "print(set1)"
   ]
  },
  {
   "cell_type": "code",
   "execution_count": 32,
   "id": "c9cec1c2-aec4-4767-935a-f24aebf56690",
   "metadata": {},
   "outputs": [
    {
     "name": "stdout",
     "output_type": "stream",
     "text": [
      "3 belongs to set: True\n",
      "0 belongs to set: False\n",
      "8 belongs to set: True\n"
     ]
    }
   ],
   "source": [
    "# Assignment 14: Set Membership Testing\n",
    "# Create a set and test if certain elements are present in the set. Print the results.\n",
    "s=set(range(3,9))\n",
    "print(\"3 belongs to set:\",3 in s)\n",
    "print(\"0 belongs to set:\",0 in s)\n",
    "print(\"8 belongs to set:\",8 in s)"
   ]
  },
  {
   "cell_type": "code",
   "execution_count": 34,
   "id": "20c4333d-815d-4cda-bff6-67eaa9cb6717",
   "metadata": {},
   "outputs": [
    {
     "name": "stdout",
     "output_type": "stream",
     "text": [
      "{(1, 2), (3, 4), (5, 6)}\n"
     ]
    }
   ],
   "source": [
    "# Assignment 15: Set of Tuples\n",
    "# Create a set containing tuples, where each tuple contains two elements. Print the set.\n",
    "\n",
    "s = { (1, 2), (3, 4), (5, 6) }\n",
    "print(s)"
   ]
  },
  {
   "cell_type": "code",
   "execution_count": null,
   "id": "40f13c98-f761-4bcc-961b-1dd4fc87ba40",
   "metadata": {},
   "outputs": [],
   "source": []
  }
 ],
 "metadata": {
  "kernelspec": {
   "display_name": "Python [conda env:base] *",
   "language": "python",
   "name": "conda-base-py"
  },
  "language_info": {
   "codemirror_mode": {
    "name": "ipython",
    "version": 3
   },
   "file_extension": ".py",
   "mimetype": "text/x-python",
   "name": "python",
   "nbconvert_exporter": "python",
   "pygments_lexer": "ipython3",
   "version": "3.13.5"
  }
 },
 "nbformat": 4,
 "nbformat_minor": 5
}

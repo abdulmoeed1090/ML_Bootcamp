{
 "cells": [
  {
   "cell_type": "markdown",
   "id": "5ca25e2a",
   "metadata": {},
   "source": [
    "# Module: File Handling Assignments\n",
    "## Lesson: File Handling and Operations\n",
    "### Assignment 1: Reading a File\n",
    "\n",
    "Write a function that reads the contents of a file named `sample.txt` and prints each line.\n",
    "\n",
    "### Assignment 2: Writing to a File\n",
    "\n",
    "Write a function that writes a list of strings to a file named `output.txt`, with each string on a new line.\n",
    "\n",
    "### Assignment 3: Copying a File\n",
    "\n",
    "Write a function that copies the contents of a file named `source.txt` to a new file named `destination.txt`.\n",
    "\n",
    "### Assignment 4: Appending to a File\n",
    "\n",
    "Write a function that appends a given string to the end of a file named `log.txt`.\n",
    "\n",
    "### Assignment 5: Counting Words in a File\n",
    "\n",
    "Write a function that reads the contents of a file named `document.txt` and returns the number of words in the file.\n",
    "\n",
    "### Assignment 6: Finding and Replacing Text\n",
    "\n",
    "Write a function that finds and replaces all occurrences of a given word in a file named `data.txt` with another word.\n",
    "\n",
    "### Assignment 7: Reading a File in Reverse\n",
    "\n",
    "Write a function that reads the contents of a file named `reverse.txt` and prints each line in reverse order.\n",
    "\n",
    "### Assignment 8: Counting Lines, Words, and Characters\n",
    "\n",
    "Write a function that reads the contents of a file named `stats.txt` and returns the number of lines, words, and characters in the file.\n",
    "\n",
    "### Assignment 9: Merging Multiple Files\n",
    "\n",
    "Write a function that merges the contents of multiple files into a single file named `merged.txt`.\n",
    "\n",
    "### Assignment 10: Splitting a Large File\n",
    "\n",
    "Write a function that splits a large file named `large.txt` into smaller files of 100 lines each.\n",
    "\n",
    "### Assignment 11: Creating a Log File\n",
    "\n",
    "Write a function that creates a log file named `activity.log` and writes log messages with timestamps.\n",
    "\n",
    "### Assignment 12: Binary File Operations\n",
    "\n",
    "Write a function that reads a binary file named `image.bin` and writes its contents to another binary file named `copy_image.bin`.\n",
    "\n",
    "### Assignment 13: CSV File Operations\n",
    "\n",
    "Write a function that reads a CSV file named `data.csv` and prints its contents as a list of dictionaries.\n",
    "\n",
    "### Assignment 14: JSON File Operations\n",
    "\n",
    "Write a function that reads a JSON file named `data.json` and prints its contents as a Python dictionary.\n",
    "\n",
    "### Assignment 15: File Permission Handling\n",
    "\n",
    "Write a function that attempts to read a file named `protected.txt` and handles any permission errors gracefully by printing an error message."
   ]
  },
  {
   "cell_type": "code",
   "execution_count": 1,
   "id": "e3257967",
   "metadata": {},
   "outputs": [],
   "source": [
    "# Assignment 1: Reading a File\n",
    "# Write a function that reads the contents of a file named sample.txt and prints each line.\n",
    "\n",
    "def read_file(filename):\n",
    "    with open(filename, 'w+') as file:\n",
    "        for line in file:\n",
    "            print(line)\n",
    "read_file(\"dest.txt\")"
   ]
  },
  {
   "cell_type": "code",
   "execution_count": 2,
   "id": "ab91adde-6948-4393-b42f-0d251db50fc2",
   "metadata": {},
   "outputs": [],
   "source": [
    "# Assignment 2: Writing to a File\n",
    "# Write a function that writes a list of strings to a file named output.txt, with each string on a new line\n",
    "\n",
    "def write_file(lines, filename):\n",
    "    with open(filename, 'w') as file:\n",
    "        for line in lines:\n",
    "            file.write(line + '\\n')\n",
    "\n",
    "# Test\n",
    "write_file(['Hello', 'World'], 'output.txt')"
   ]
  },
  {
   "cell_type": "code",
   "execution_count": 6,
   "id": "6e80dd3e-0787-47b0-bfcd-cc915bbfbadd",
   "metadata": {},
   "outputs": [
    {
     "name": "stdout",
     "output_type": "stream",
     "text": [
      "hello how r u\n"
     ]
    }
   ],
   "source": [
    "# Assignment 3: Copying a File\n",
    "# Write a function that copies the contents of a file named source.txt to a new file named destination.txt.\n",
    "\n",
    "def copy_file(fn1,fn2):\n",
    "    with open(fn1, 'r') as source_file:\n",
    "       content = source_file.read()\n",
    "    with open(fn2,'w') as dest_file:\n",
    "        dest_file.write(content)\n",
    "    with open(fn2,'r') as dest_file:    \n",
    "        for line in dest_file:\n",
    "           print(line.strip())\n",
    "\n",
    "copy_file(\"sample.txt\",\"dest.txt\")"
   ]
  },
  {
   "cell_type": "code",
   "execution_count": 20,
   "id": "cd166fe7-4577-482b-88f5-cdc1003b9cf6",
   "metadata": {},
   "outputs": [
    {
     "name": "stdout",
     "output_type": "stream",
     "text": [
      "hello brother how are you!\n",
      "we are also goodhello brother how are you?\n",
      "we are also goodhello brother how are you?\n",
      "we are also goodhello brother how are you?\n",
      "we are also goodhello brother how are you?\n",
      "we are also goodhello brother how are you?\n",
      "we are also goodhello brother how are you?\n",
      "we are also goodhello brother how are you?\n",
      "we are also goodhello brother how are you?\n",
      "we are also goodhello brother how are you?\n",
      "we are also good\n",
      "hello brother how are you?\n",
      "we are also good\n",
      "hello brother how are you?\n",
      "we are also good\n"
     ]
    }
   ],
   "source": [
    "# Assignment 4: Appending to a File\n",
    "# Write a function that appends a given string to the end of a file named log.txt\n",
    "def Appending(fn,st):\n",
    "    with open(fn,'a')as file:\n",
    "        file.write(st)\n",
    "    with open(fn,'r')as file:\n",
    "        file.seek(0)\n",
    "        for line in file:\n",
    "          print(line.strip())\n",
    "\n",
    "Appending(\"log.txt\",\"hello brother how are you? \\n we are also good\\n\")\n",
    "   \n",
    "    "
   ]
  },
  {
   "cell_type": "code",
   "execution_count": 24,
   "id": "1b264f2f-a1e6-4b4b-97f7-6b0b75616a15",
   "metadata": {},
   "outputs": [
    {
     "name": "stdout",
     "output_type": "stream",
     "text": [
      "dictionary : {'hello': 3, 'brother': 12, 'how': 12, 'are': 24, 'you!': 1, 'we': 12, 'also': 12, 'goodhello': 9, 'you?': 11, 'good': 3}\n"
     ]
    },
    {
     "data": {
      "text/plain": [
       "{'hello': 3,\n",
       " 'brother': 12,\n",
       " 'how': 12,\n",
       " 'are': 24,\n",
       " 'you!': 1,\n",
       " 'we': 12,\n",
       " 'also': 12,\n",
       " 'goodhello': 9,\n",
       " 'you?': 11,\n",
       " 'good': 3}"
      ]
     },
     "execution_count": 24,
     "metadata": {},
     "output_type": "execute_result"
    }
   ],
   "source": [
    "# Assignment 5: Counting Words in a File\n",
    "# Write a function that reads the contents of a file named log.txt and returns the number of words in the file.\n",
    "\n",
    "def count_words(fn):\n",
    "    with open(fn,'r') as file:\n",
    "        content=file.read()\n",
    "    words = content.split()\n",
    "    dct={}\n",
    "    for word in words:\n",
    "        if word in dct:\n",
    "            dct[word]+=1\n",
    "        else :\n",
    "            dct[word]=1\n",
    "            \n",
    "            \n",
    "    print(\"dictionary :\",dct)\n",
    "    return dct\n",
    "\n",
    "count_words(\"log.txt\")"
   ]
  },
  {
   "cell_type": "code",
   "execution_count": 69,
   "id": "5cea53eb-a62e-4d1b-aa21-06f51e8706dd",
   "metadata": {},
   "outputs": [
    {
     "name": "stdout",
     "output_type": "stream",
     "text": [
      "Updated content:\n",
      " hello how r ok i am very good biy and you are a mother fucker i am very good biy and you are a mother fucker i am very good biy and you are a mother fucker i am very good biy and you are a mother fucker\n"
     ]
    }
   ],
   "source": [
    "# Assignment 6: Finding and Replacing Text\n",
    "# Write a function that finds and replaces all occurrences of a given word in a file named data.txt with another word.\n",
    "\n",
    "def replace_words(given, new_word, fn):\n",
    "    with open(fn, 'r') as file:\n",
    "        content = file.read()\n",
    "\n",
    "    words = content.split()  \n",
    "    updated_words = []\n",
    "\n",
    "    for word in words:\n",
    "        if word == given:\n",
    "            updated_words.append(new_word)  \n",
    "        else:\n",
    "            updated_words.append(word)\n",
    "\n",
    "    # join back into string\n",
    "    updated_content = \" \".join(updated_words)\n",
    "\n",
    "    with open(fn, 'w') as file:\n",
    "        file.write(updated_content)\n",
    "\n",
    "    print(\"Updated content:\\n\", updated_content)\n",
    "\n",
    "\n",
    "# Example usage\n",
    "replace_words(\" ok\", \" ok  \\n\\\\n\", \"sample.txt\")\n"
   ]
  },
  {
   "cell_type": "code",
   "execution_count": null,
   "id": "a8c35ed3-418f-44bb-915e-1d795b4754c4",
   "metadata": {},
   "outputs": [],
   "source": []
  },
  {
   "cell_type": "code",
   "execution_count": null,
   "id": "5c11176e-d823-40d9-9185-999ed9091522",
   "metadata": {},
   "outputs": [],
   "source": []
  }
 ],
 "metadata": {
  "kernelspec": {
   "display_name": "Python [conda env:base] *",
   "language": "python",
   "name": "conda-base-py"
  },
  "language_info": {
   "codemirror_mode": {
    "name": "ipython",
    "version": 3
   },
   "file_extension": ".py",
   "mimetype": "text/x-python",
   "name": "python",
   "nbconvert_exporter": "python",
   "pygments_lexer": "ipython3",
   "version": "3.13.5"
  }
 },
 "nbformat": 4,
 "nbformat_minor": 5
}
